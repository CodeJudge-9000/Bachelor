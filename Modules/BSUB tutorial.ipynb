{
 "cells": [
  {
   "cell_type": "code",
   "execution_count": 1,
   "metadata": {},
   "outputs": [],
   "source": [
    "#### Skrivning af Jobfile interface ####\n",
    "from bsubmission import *\n",
    "import os\n",
    "import time\n",
    "\n",
    "# Variables that we will change\n",
    "JobName = \"Mathias\"\n",
    "coresAsked = 1\n",
    "\n",
    "# Unchanged variables\n",
    "scriptName = \"cores.py\"\n",
    "numHosts = 1\n",
    "email = \"mathias_lendal@hotmail.dk\"\n",
    "mem = \"2GB\"\n",
    "maxMem = \"3GB\"\n",
    "wallTime = \"24:00\"\n",
    "\n",
    "# In this section we just make a jobname, a scriptname, the number of hosts and so on for the file\n",
    "\n",
    "## Script to copy name, is important, because we create a new file instead\n",
    "# so in case something goes wrong we don't ruin our original file\n",
    "scriptToCopyName = \"OG.py\""
   ]
  },
  {
   "cell_type": "code",
   "execution_count": null,
   "metadata": {},
   "outputs": [],
   "source": [
    "# Creating the object, that can do its wonders\n",
    "sub = bsubmissions(JobName, coresAsked, scriptName, numHosts, email, mem, maxMem, wallTime)\n",
    "\n",
    "# In this example i make the cores change in a for loop, where we can change something inside code, and submit, can be\n",
    "# done with basis as well.\n",
    "for coresVal in [1,2,3,4,5,6,7,8,9,10,11,12]:\n",
    "# Here we make or open our dummy script\n",
    "    repscript = open(scriptName, \"w+\")\n",
    "    # Defining newVar\n",
    "    newVar = f'cores = {coresVal}'\n",
    "    \n",
    "    # Changing jobname, not necessary but it is okay\n",
    "    sub.jobName = f\"cores_{coresVal}\"\n",
    "    \n",
    "    # Changing the cores we ask for, this is crucial, in this specific situation, we cold also have only changed our\n",
    "    # PW value or vacuum in the same way\n",
    "    sub.coresAsked = coresVal\n",
    "\n",
    "    \n",
    "# From here everything is more automatic    \n",
    "    #Making the sub file\n",
    "    sub.make_bsub_file()\n",
    "    \n",
    "    # Opening original file and make the changeable variable\n",
    "    fpy = open(scriptToCopyName, \"r+\")\n",
    "    changeable = fpy.read()\n",
    "    fpy.close()\n",
    "    \n",
    "    \"\"\" Replacing old variable hardcode with a new one, must change from what one wants to achive \"\"\"\n",
    "    changeable = changeable.replace(f'cores = 1', newVar)\n",
    "    \n",
    "    # Deleting everything inside our dummy script\n",
    "    repscript.truncate(0)\n",
    "    repscript.close()\n",
    "    \n",
    "    # Open script, write our changed code and save it \n",
    "    repscript = open(scriptName, \"w+\")\n",
    "    repscript.write(changeable)\n",
    "    repscript.close()\n",
    "    \n",
    "    # Sending the job in\n",
    "    sub.do_submission()\n",
    "    \n",
    "    # Delete subfile and wait such that we don't to things to quickly for system to understand\n",
    "    sub.delete_bsub_file()\n",
    "    time.sleep(5)\n"
   ]
  },
  {
   "cell_type": "code",
   "execution_count": null,
   "metadata": {},
   "outputs": [],
   "source": []
  }
 ],
 "metadata": {
  "kernelspec": {
   "display_name": "venv",
   "language": "python",
   "name": "venv"
  },
  "language_info": {
   "codemirror_mode": {
    "name": "ipython",
    "version": 3
   },
   "file_extension": ".py",
   "mimetype": "text/x-python",
   "name": "python",
   "nbconvert_exporter": "python",
   "pygments_lexer": "ipython3",
   "version": "3.8.5"
  }
 },
 "nbformat": 4,
 "nbformat_minor": 4
}
